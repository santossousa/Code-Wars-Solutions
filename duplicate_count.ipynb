{
  "nbformat": 4,
  "nbformat_minor": 0,
  "metadata": {
    "colab": {
      "provenance": [],
      "authorship_tag": "ABX9TyOz0o1UZGOvol23vE2D3GXD",
      "include_colab_link": true
    },
    "kernelspec": {
      "name": "python3",
      "display_name": "Python 3"
    },
    "language_info": {
      "name": "python"
    }
  },
  "cells": [
    {
      "cell_type": "markdown",
      "metadata": {
        "id": "view-in-github",
        "colab_type": "text"
      },
      "source": [
        "<a href=\"https://colab.research.google.com/github/santossousa/Code-Wars-Solutions/blob/main/duplicate_count.ipynb\" target=\"_parent\"><img src=\"https://colab.research.google.com/assets/colab-badge.svg\" alt=\"Open In Colab\"/></a>"
      ]
    },
    {
      "cell_type": "markdown",
      "source": [
        "**Description**:\n",
        "\n",
        "Count the number of Duplicates\n",
        "\n",
        "Write a function that will return the count of distinct case-insensitive alphabetic characters and numeric digits that occur more than once in the input string. The input string can be assumed to contain only alphabets (both uppercase and lowercase) and numeric digits.\n",
        "\n",
        "**Example**\n",
        "\n",
        "- \"abcde\" -> 0 # no characters repeats more than once\n",
        "- \"aabbcde\" -> 2 # 'a' and 'b'\n",
        "- \"aabBcde\" -> 2 # 'a' occurs twice and 'b' twice (\\`b\\' and \\`B\\`)\n",
        "- \"indivisibility\" -> 1 # 'i' occurs six times\n",
        "- \"Indivisibilities\" -> 2 # 'i' occurs seven times and 's' occurs twice\n",
        "- \"aA11\" -> 2 # 'a' and '1'\n",
        "- \"ABBA\" -> 2 # 'A' and 'B' each occur twice\n"
      ],
      "metadata": {
        "id": "jMq3FiwoWrFc"
      }
    },
    {
      "cell_type": "code",
      "source": [
        "!pip install ipytest  # Instala o ipytest"
      ],
      "metadata": {
        "id": "eTJLP0qwigB-"
      },
      "execution_count": null,
      "outputs": []
    },
    {
      "cell_type": "code",
      "execution_count": 46,
      "metadata": {
        "id": "qJEfxlLHVW2H"
      },
      "outputs": [],
      "source": [
        "import ipytest\n",
        "import unittest\n",
        "ipytest.autoconfig()\n",
        "\n",
        "def duplicate_count(text):\n",
        "    return sum(text.lower().count(ch) > 1 for ch in set(text.lower()))"
      ]
    },
    {
      "cell_type": "code",
      "source": [
        "class TestDuplicateCount(unittest.TestCase):\n",
        "\n",
        "    def test_empty_string(self):\n",
        "        self.assertEqual(duplicate_count(''), 0)\n",
        "\n",
        "    def test_no_duplicates(self):\n",
        "        self.assertEqual(duplicate_count('abcde'), 0)\n",
        "\n",
        "    def test_case_insensitive_duplicates(self):\n",
        "        self.assertEqual(duplicate_count('aAAbbbcde'), 2)\n",
        "\n",
        "unittest.main(argv=[''], defaultTest='TestDuplicateCount', verbosity=2, exit=False)"
      ],
      "metadata": {
        "colab": {
          "base_uri": "https://localhost:8080/"
        },
        "id": "CxOQDjjaYlfe",
        "outputId": "18cc1161-82df-41ed-e814-ef3d1fcc2a3a"
      },
      "execution_count": 49,
      "outputs": [
        {
          "output_type": "stream",
          "name": "stderr",
          "text": [
            "test_case_insensitive_duplicates (__main__.TestDuplicateCount) ... ok\n",
            "test_empty_string (__main__.TestDuplicateCount) ... ok\n",
            "test_no_duplicates (__main__.TestDuplicateCount) ... ok\n",
            "\n",
            "----------------------------------------------------------------------\n",
            "Ran 3 tests in 0.035s\n",
            "\n",
            "OK\n"
          ]
        },
        {
          "output_type": "execute_result",
          "data": {
            "text/plain": [
              "<unittest.main.TestProgram at 0x7f43c8b8f280>"
            ]
          },
          "metadata": {},
          "execution_count": 49
        }
      ]
    }
  ]
}