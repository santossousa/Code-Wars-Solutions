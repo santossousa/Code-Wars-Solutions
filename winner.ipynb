{
  "nbformat": 4,
  "nbformat_minor": 0,
  "metadata": {
    "colab": {
      "provenance": [],
      "authorship_tag": "ABX9TyP1QGTkCNZd8PPcYbOj6yIU",
      "include_colab_link": true
    },
    "kernelspec": {
      "name": "python3",
      "display_name": "Python 3"
    },
    "language_info": {
      "name": "python"
    }
  },
  "cells": [
    {
      "cell_type": "markdown",
      "metadata": {
        "id": "view-in-github",
        "colab_type": "text"
      },
      "source": [
        "<a href=\"https://colab.research.google.com/github/santossousa/Code-Wars-Solutions/blob/main/winner.ipynb\" target=\"_parent\"><img src=\"https://colab.research.google.com/assets/colab-badge.svg\" alt=\"Open In Colab\"/></a>"
      ]
    },
    {
      "cell_type": "markdown",
      "source": [
        "**Description**:\n",
        "\n",
        "Steve and Josh are bored and want to play something. They don't want to think too much, so they come up with a really simple game. Write a function called winner and figure out who is going to win.\n",
        "\n",
        "They are dealt the same number of cards. They both flip the card on the top of their deck. Whoever has a card with higher value wins the round and gets one point (if the cards are of the same value, neither of them gets a point). After this, the two cards are discarded and they flip another card from the top of their deck. They do this until they have no cards left.\n",
        "\n",
        "deckSteve and deckJosh are arrays representing their decks. They are filled with cards, represented by a single character. The card rank is as follows (from lowest to highest):\n",
        "\n",
        "    '2','3','4','5','6','7','8','9','T','J','Q','K','A'\n",
        "\n",
        "Every card may appear in the deck more than once. Figure out who is going to win and return who wins and with what score:\n",
        "\n",
        "  - \"Steve wins x to y\" if Steve wins; where x is Steve's score, y is Josh's score;\n",
        "  - \"Josh wins x to y\" if Josh wins; where x is Josh's score, y is Steve's score;\n",
        "  - \"Tie\" if the score is tied at the end of the game.\n",
        "\n",
        "**Example**\n",
        "\n",
        "  - Steve is dealt: ['A','7','8']\n",
        "  - Josh is dealt: ['K','5','9']\n",
        "\n",
        "  1 .In the first round, ace beats king and Steve gets one point.\n",
        "  2. In the second round, 7 beats 5 and Steve gets his second point.\n",
        "  3. In the third round, 9 beats 8 and Josh gets one point.\n",
        "\n",
        "So you should return: \"Steve wins 2 to 1\"\n",
        "\n",
        "\n",
        "\n",
        "\n",
        "\n"
      ],
      "metadata": {
        "id": "fYRHv07Auvsd"
      }
    },
    {
      "cell_type": "code",
      "source": [
        "!pip install ipytest  # Instala o ipytest"
      ],
      "metadata": {
        "colab": {
          "base_uri": "https://localhost:8080/"
        },
        "id": "5m42eFuXwsQp",
        "outputId": "25f14f12-e8bc-4c22-a348-ec532cde2517"
      },
      "execution_count": 1,
      "outputs": [
        {
          "output_type": "stream",
          "name": "stdout",
          "text": [
            "Looking in indexes: https://pypi.org/simple, https://us-python.pkg.dev/colab-wheels/public/simple/\n",
            "Collecting ipytest\n",
            "  Downloading ipytest-0.13.3-py3-none-any.whl (14 kB)\n",
            "Requirement already satisfied: ipython in /usr/local/lib/python3.10/dist-packages (from ipytest) (7.34.0)\n",
            "Requirement already satisfied: packaging in /usr/local/lib/python3.10/dist-packages (from ipytest) (23.1)\n",
            "Requirement already satisfied: pytest>=5.4 in /usr/local/lib/python3.10/dist-packages (from ipytest) (7.2.2)\n",
            "Requirement already satisfied: attrs>=19.2.0 in /usr/local/lib/python3.10/dist-packages (from pytest>=5.4->ipytest) (23.1.0)\n",
            "Requirement already satisfied: iniconfig in /usr/local/lib/python3.10/dist-packages (from pytest>=5.4->ipytest) (2.0.0)\n",
            "Requirement already satisfied: pluggy<2.0,>=0.12 in /usr/local/lib/python3.10/dist-packages (from pytest>=5.4->ipytest) (1.0.0)\n",
            "Requirement already satisfied: exceptiongroup>=1.0.0rc8 in /usr/local/lib/python3.10/dist-packages (from pytest>=5.4->ipytest) (1.1.1)\n",
            "Requirement already satisfied: tomli>=1.0.0 in /usr/local/lib/python3.10/dist-packages (from pytest>=5.4->ipytest) (2.0.1)\n",
            "Requirement already satisfied: setuptools>=18.5 in /usr/local/lib/python3.10/dist-packages (from ipython->ipytest) (67.7.2)\n",
            "Collecting jedi>=0.16 (from ipython->ipytest)\n",
            "  Downloading jedi-0.18.2-py2.py3-none-any.whl (1.6 MB)\n",
            "\u001b[2K     \u001b[90m━━━━━━━━━━━━━━━━━━━━━━━━━━━━━━━━━━━━━━━━\u001b[0m \u001b[32m1.6/1.6 MB\u001b[0m \u001b[31m27.3 MB/s\u001b[0m eta \u001b[36m0:00:00\u001b[0m\n",
            "\u001b[?25hRequirement already satisfied: decorator in /usr/local/lib/python3.10/dist-packages (from ipython->ipytest) (4.4.2)\n",
            "Requirement already satisfied: pickleshare in /usr/local/lib/python3.10/dist-packages (from ipython->ipytest) (0.7.5)\n",
            "Requirement already satisfied: traitlets>=4.2 in /usr/local/lib/python3.10/dist-packages (from ipython->ipytest) (5.7.1)\n",
            "Requirement already satisfied: prompt-toolkit!=3.0.0,!=3.0.1,<3.1.0,>=2.0.0 in /usr/local/lib/python3.10/dist-packages (from ipython->ipytest) (3.0.38)\n",
            "Requirement already satisfied: pygments in /usr/local/lib/python3.10/dist-packages (from ipython->ipytest) (2.14.0)\n",
            "Requirement already satisfied: backcall in /usr/local/lib/python3.10/dist-packages (from ipython->ipytest) (0.2.0)\n",
            "Requirement already satisfied: matplotlib-inline in /usr/local/lib/python3.10/dist-packages (from ipython->ipytest) (0.1.6)\n",
            "Requirement already satisfied: pexpect>4.3 in /usr/local/lib/python3.10/dist-packages (from ipython->ipytest) (4.8.0)\n",
            "Requirement already satisfied: parso<0.9.0,>=0.8.0 in /usr/local/lib/python3.10/dist-packages (from jedi>=0.16->ipython->ipytest) (0.8.3)\n",
            "Requirement already satisfied: ptyprocess>=0.5 in /usr/local/lib/python3.10/dist-packages (from pexpect>4.3->ipython->ipytest) (0.7.0)\n",
            "Requirement already satisfied: wcwidth in /usr/local/lib/python3.10/dist-packages (from prompt-toolkit!=3.0.0,!=3.0.1,<3.1.0,>=2.0.0->ipython->ipytest) (0.2.6)\n",
            "Installing collected packages: jedi, ipytest\n",
            "Successfully installed ipytest-0.13.3 jedi-0.18.2\n"
          ]
        }
      ]
    },
    {
      "cell_type": "code",
      "source": [
        "import ipytest\n",
        "import unittest\n",
        "ipytest.autoconfig()"
      ],
      "metadata": {
        "id": "ffkVXn2Ewo0A"
      },
      "execution_count": 2,
      "outputs": []
    },
    {
      "cell_type": "code",
      "execution_count": 3,
      "metadata": {
        "id": "z0v2QUlSujog"
      },
      "outputs": [],
      "source": [
        "def winner(deck_steve, deck_josh):\n",
        "    if len(deck_steve) != len(deck_josh):\n",
        "        raise ValueError(\"Decks must have the same number of cards\")\n",
        "    card_value = lambda card: '23456789TJQKA'.index(card)\n",
        "    scoreSteve, scoreJosh = sum(card_value(cs) > card_value(cj) for cs, cj in zip(deck_steve, deck_josh)), sum(card_value(cj) > card_value(cs) for cs, cj in zip(deck_steve, deck_josh))\n",
        "    return \"Steve wins {} to {}\".format(scoreSteve, scoreJosh) if scoreSteve > scoreJosh else \\\n",
        "           \"Josh wins {} to {}\".format(scoreJosh, scoreSteve) if scoreJosh > scoreSteve else \"Tie\""
      ]
    },
    {
      "cell_type": "code",
      "source": [
        "class TestWinner(unittest.TestCase):\n",
        "  def test_small_deck(self):\n",
        "    self.assertEqual(winner([\"A\", \"7\", \"8\"], [\"K\", \"5\", \"9\"]), \"Steve wins 2 to 1\")\n",
        "    self.assertEqual(winner([\"T\"], [\"T\"]), \"Tie\")\n",
        "    self.assertEqual(winner([\"T\", \"9\"], [\"T\", \"8\"]), \"Steve wins 1 to 0\")\n",
        "    \n",
        "   \n",
        "  def test_no_deck(self):\n",
        "    self.assertEqual(winner([], []), \"Tie\")\n",
        "  \n",
        " \n",
        "  def test_medium_deck(self):\n",
        "    self.assertEqual(winner(\n",
        "      [\"K\", \"2\", \"4\", \"5\", \"4\", \"3\", \"2\", \"K\", \"A\", \"T\"], \n",
        "      [\"Q\", \"3\", \"4\", \"6\", \"4\", \"3\", \"5\", \"A\", \"8\", \"7\"]), \n",
        "      \"Josh wins 4 to 3\")\n",
        "  \n",
        "    self.assertEqual(winner(\n",
        "      [\"A\", \"K\", \"2\", \"3\", \"A\", \"8\", \"5\", \"5\", \"7\", \"T\"], \n",
        "      [\"K\", \"A\", \"5\", \"9\", \"A\", \"3\", \"2\", \"6\", \"3\", \"T\"]), \n",
        "      \"Tie\")\n",
        "  \n",
        "\n",
        "  def test_large_deck(self):\n",
        "      self.assertEqual(winner(\n",
        "      [\"2\", \"3\", \"4\", \"5\", \"6\", \"7\", \"8\", \"9\", \"T\", \"J\", \"Q\", \"K\", \"A\", \"5\", \"6\", \"8\", \"T\", \"3\", \"T\", \"J\"], \n",
        "      [\"A\", \"K\", \"Q\", \"J\", \"T\", \"9\", \"8\", \"7\", \"6\", \"5\", \"4\", \"3\", \"2\", \"2\", \"2\", \"T\", \"T\", \"9\", \"4\", \"3\"]), \n",
        "      \"Steve wins 10 to 8\")\n",
        "unittest.main(argv=[''], defaultTest='TestWinner',verbosity=2, exit=False)"
      ],
      "metadata": {
        "colab": {
          "base_uri": "https://localhost:8080/"
        },
        "id": "o14CJiOWwDLt",
        "outputId": "8429ff7d-89bd-48c2-c56d-919de77445a1"
      },
      "execution_count": 11,
      "outputs": [
        {
          "output_type": "stream",
          "name": "stderr",
          "text": [
            "test_large_deck (__main__.TestWinner) ... ok\n",
            "test_medium_deck (__main__.TestWinner) ... ok\n",
            "test_no_deck (__main__.TestWinner) ... ok\n",
            "test_small_deck (__main__.TestWinner) ... ok\n",
            "\n",
            "----------------------------------------------------------------------\n",
            "Ran 4 tests in 0.014s\n",
            "\n",
            "OK\n"
          ]
        },
        {
          "output_type": "execute_result",
          "data": {
            "text/plain": [
              "<unittest.main.TestProgram at 0x7f9b45cbd960>"
            ]
          },
          "metadata": {},
          "execution_count": 11
        }
      ]
    }
  ]
}