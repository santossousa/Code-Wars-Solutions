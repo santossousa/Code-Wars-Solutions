{
  "nbformat": 4,
  "nbformat_minor": 0,
  "metadata": {
    "colab": {
      "provenance": [],
      "authorship_tag": "ABX9TyMJZ6PQH53Eg1ZTJUgvrV99",
      "include_colab_link": true
    },
    "kernelspec": {
      "name": "python3",
      "display_name": "Python 3"
    },
    "language_info": {
      "name": "python"
    }
  },
  "cells": [
    {
      "cell_type": "markdown",
      "metadata": {
        "id": "view-in-github",
        "colab_type": "text"
      },
      "source": [
        "<a href=\"https://colab.research.google.com/github/santossousa/Code-Wars-Solutions/blob/main/email_validation.ipynb\" target=\"_parent\"><img src=\"https://colab.research.google.com/assets/colab-badge.svg\" alt=\"Open In Colab\"/></a>"
      ]
    },
    {
      "cell_type": "markdown",
      "source": [
        "**Description**:\n",
        "\n",
        "Write a function to test whether a given input is a valid email address.\n",
        "\n",
        "For the purposes of this kata, here is what makes a valid email:\n",
        "\n",
        "  - At least one letter character at the beginning\n",
        "  - All characters between the first character and the @ (if any) must be letters, numbers, or underscores\n",
        "  - There must be an @ character (after the points listed just now)\n",
        "  - After the @ character, there must be at least one word character (letter, number, or underscore) or hyphen\n",
        "  - The email must end with at least one set of a dot followed by one or more word characters.\n",
        "  - The input must NOT be case-sensitive\n",
        "\n",
        "The function should return true or false.\n"
      ],
      "metadata": {
        "id": "3XXXcowLk0DE"
      }
    },
    {
      "cell_type": "code",
      "source": [
        "!pip install ipytest  # Instala o ipytest"
      ],
      "metadata": {
        "colab": {
          "base_uri": "https://localhost:8080/"
        },
        "id": "927GUiMdlY-C",
        "outputId": "ab7a1cb3-28aa-4d02-88ca-be5c0981dcc4"
      },
      "execution_count": 1,
      "outputs": [
        {
          "output_type": "stream",
          "name": "stdout",
          "text": [
            "Looking in indexes: https://pypi.org/simple, https://us-python.pkg.dev/colab-wheels/public/simple/\n",
            "Collecting ipytest\n",
            "  Downloading ipytest-0.13.3-py3-none-any.whl (14 kB)\n",
            "Requirement already satisfied: ipython in /usr/local/lib/python3.10/dist-packages (from ipytest) (7.34.0)\n",
            "Requirement already satisfied: packaging in /usr/local/lib/python3.10/dist-packages (from ipytest) (23.1)\n",
            "Requirement already satisfied: pytest>=5.4 in /usr/local/lib/python3.10/dist-packages (from ipytest) (7.2.2)\n",
            "Requirement already satisfied: attrs>=19.2.0 in /usr/local/lib/python3.10/dist-packages (from pytest>=5.4->ipytest) (23.1.0)\n",
            "Requirement already satisfied: iniconfig in /usr/local/lib/python3.10/dist-packages (from pytest>=5.4->ipytest) (2.0.0)\n",
            "Requirement already satisfied: pluggy<2.0,>=0.12 in /usr/local/lib/python3.10/dist-packages (from pytest>=5.4->ipytest) (1.0.0)\n",
            "Requirement already satisfied: exceptiongroup>=1.0.0rc8 in /usr/local/lib/python3.10/dist-packages (from pytest>=5.4->ipytest) (1.1.1)\n",
            "Requirement already satisfied: tomli>=1.0.0 in /usr/local/lib/python3.10/dist-packages (from pytest>=5.4->ipytest) (2.0.1)\n",
            "Requirement already satisfied: setuptools>=18.5 in /usr/local/lib/python3.10/dist-packages (from ipython->ipytest) (67.7.2)\n",
            "Collecting jedi>=0.16 (from ipython->ipytest)\n",
            "  Downloading jedi-0.18.2-py2.py3-none-any.whl (1.6 MB)\n",
            "\u001b[2K     \u001b[90m━━━━━━━━━━━━━━━━━━━━━━━━━━━━━━━━━━━━━━━━\u001b[0m \u001b[32m1.6/1.6 MB\u001b[0m \u001b[31m21.7 MB/s\u001b[0m eta \u001b[36m0:00:00\u001b[0m\n",
            "\u001b[?25hRequirement already satisfied: decorator in /usr/local/lib/python3.10/dist-packages (from ipython->ipytest) (4.4.2)\n",
            "Requirement already satisfied: pickleshare in /usr/local/lib/python3.10/dist-packages (from ipython->ipytest) (0.7.5)\n",
            "Requirement already satisfied: traitlets>=4.2 in /usr/local/lib/python3.10/dist-packages (from ipython->ipytest) (5.7.1)\n",
            "Requirement already satisfied: prompt-toolkit!=3.0.0,!=3.0.1,<3.1.0,>=2.0.0 in /usr/local/lib/python3.10/dist-packages (from ipython->ipytest) (3.0.38)\n",
            "Requirement already satisfied: pygments in /usr/local/lib/python3.10/dist-packages (from ipython->ipytest) (2.14.0)\n",
            "Requirement already satisfied: backcall in /usr/local/lib/python3.10/dist-packages (from ipython->ipytest) (0.2.0)\n",
            "Requirement already satisfied: matplotlib-inline in /usr/local/lib/python3.10/dist-packages (from ipython->ipytest) (0.1.6)\n",
            "Requirement already satisfied: pexpect>4.3 in /usr/local/lib/python3.10/dist-packages (from ipython->ipytest) (4.8.0)\n",
            "Requirement already satisfied: parso<0.9.0,>=0.8.0 in /usr/local/lib/python3.10/dist-packages (from jedi>=0.16->ipython->ipytest) (0.8.3)\n",
            "Requirement already satisfied: ptyprocess>=0.5 in /usr/local/lib/python3.10/dist-packages (from pexpect>4.3->ipython->ipytest) (0.7.0)\n",
            "Requirement already satisfied: wcwidth in /usr/local/lib/python3.10/dist-packages (from prompt-toolkit!=3.0.0,!=3.0.1,<3.1.0,>=2.0.0->ipython->ipytest) (0.2.6)\n",
            "Installing collected packages: jedi, ipytest\n",
            "Successfully installed ipytest-0.13.3 jedi-0.18.2\n"
          ]
        }
      ]
    },
    {
      "cell_type": "code",
      "execution_count": 10,
      "metadata": {
        "id": "k2c_4-0AkeGh"
      },
      "outputs": [],
      "source": [
        "import re\n",
        "import ipytest\n",
        "import unittest\n",
        "ipytest.autoconfig()\n",
        "def validate(input_):\n",
        "    #your code here\n",
        "    pattern = r\"^[a-zA-Z]\\w*@[a-zA-Z0-9_]+[\\w-]*(\\.[\\w]+)+$\"\n",
        "    return re.match(pattern, input_) is not None"
      ]
    },
    {
      "cell_type": "code",
      "source": [
        "class TestValidateEmail(unittest.TestCase):\n",
        "  \n",
        "  def test_basics_true(self):\n",
        "\n",
        "    self.assertTrue(validate('abc@example.com'), True)\n",
        "    self.assertTrue(validate('abc123@example-123.co.uk'), True)\n",
        "    self.assertTrue(validate('abc_123@a-1_23.co.uk'), True)\n",
        "\n",
        "  def test_basics_false(self):\n",
        "\n",
        "    self.assertFalse(validate('_bc@example.com'), False)\n",
        "    self.assertFalse(validate('abc@abc'), False)\n",
        "    self.assertFalse(validate('abc@.com'), False)\n",
        "    self.assertFalse(validate('abc.com'), False)\n",
        "    self.assertFalse(validate('@example.com'), False)\n",
        "    self.assertFalse(validate('abc#@example.com'), False)\n",
        "    self.assertFalse(validate('abc@example#.com'), False)\n",
        "    self.assertFalse(validate('abc@example.com#'), False)\n",
        "\n",
        "  unittest.main(argv=[''], verbosity=2, exit=False)"
      ],
      "metadata": {
        "colab": {
          "base_uri": "https://localhost:8080/"
        },
        "id": "gfZGnDOKpzOj",
        "outputId": "170ea39e-7215-48e6-d324-9e59e3686057"
      },
      "execution_count": 23,
      "outputs": [
        {
          "output_type": "stream",
          "name": "stderr",
          "text": [
            "test_basics_false (__main__.TestValidateEmail) ... ok\n",
            "test_basics_true (__main__.TestValidateEmail) ... ok\n",
            "\n",
            "----------------------------------------------------------------------\n",
            "Ran 2 tests in 0.007s\n",
            "\n",
            "OK\n"
          ]
        }
      ]
    }
  ]
}