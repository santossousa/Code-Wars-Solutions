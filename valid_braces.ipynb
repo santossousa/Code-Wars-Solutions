{
  "nbformat": 4,
  "nbformat_minor": 0,
  "metadata": {
    "colab": {
      "provenance": [],
      "authorship_tag": "ABX9TyOImj3CW9RUGO4NXhpRNCLn",
      "include_colab_link": true
    },
    "kernelspec": {
      "name": "python3",
      "display_name": "Python 3"
    },
    "language_info": {
      "name": "python"
    }
  },
  "cells": [
    {
      "cell_type": "markdown",
      "metadata": {
        "id": "view-in-github",
        "colab_type": "text"
      },
      "source": [
        "<a href=\"https://colab.research.google.com/github/santossousa/Code-Wars-Solutions/blob/main/valid_braces.ipynb\" target=\"_parent\"><img src=\"https://colab.research.google.com/assets/colab-badge.svg\" alt=\"Open In Colab\"/></a>"
      ]
    },
    {
      "cell_type": "markdown",
      "source": [
        "**Description**:\n",
        "\n",
        "Write a function that takes a string of braces, and determines if the order of the braces is valid. It should return true if the string is valid, and false if it's invalid.\n",
        "\n",
        "This Kata is similar to the Valid Parentheses Kata, but introduces new characters: brackets [], and curly braces {}. Thanks to @arnedag for the idea!\n",
        "\n",
        "All input strings will be nonempty, and will only consist of parentheses, brackets and curly braces: ()[]{}.\n",
        "\n",
        "What is considered Valid?\n",
        "\n",
        "A string of braces is considered valid if all braces are matched with the correct brace.\n",
        "Examples\n",
        "\n",
        "- \"(){}[]\"   =>  True\n",
        "- \"([{}])\"   =>  True\n",
        "- \"(}\"       =>  False\n",
        "- \"[(])\"     =>  False\n",
        "- \"[({})](]\" =>  False\n",
        "\n"
      ],
      "metadata": {
        "id": "7XJbRu3ei9AR"
      }
    },
    {
      "cell_type": "code",
      "source": [
        "!pip install ipytest  # Instala o ipytest"
      ],
      "metadata": {
        "id": "w5PvmtDRjiZt"
      },
      "execution_count": null,
      "outputs": []
    },
    {
      "cell_type": "code",
      "source": [
        "import ipytest\n",
        "import unittest\n",
        "ipytest.autoconfig()"
      ],
      "metadata": {
        "id": "AwzImHZ9jlOd"
      },
      "execution_count": 3,
      "outputs": []
    },
    {
      "cell_type": "code",
      "execution_count": 1,
      "metadata": {
        "id": "mNQW20kYizyh"
      },
      "outputs": [],
      "source": [
        "def valid_braces(string):\n",
        "\n",
        "    while '{}' in string or '()' in string or '[]' in string:\n",
        "        string=string.replace('{}','')\n",
        "        string=string.replace('[]','')\n",
        "        string=string.replace('()','')\n",
        "        \n",
        "    return string==''"
      ]
    },
    {
      "cell_type": "code",
      "source": [
        "class TestValidBraces(unittest.TestCase):\n",
        "\n",
        "  def test_valid_braces(self):\n",
        "\n",
        "      self.assertEqual(valid_braces(\"()\"), True)\n",
        "      self.assertEqual(valid_braces(\"[]\"), True)\n",
        "      self.assertEqual(valid_braces(\"{}\"), True)\n",
        "      self.assertEqual(valid_braces(\"{}()[]\"), True)\n",
        "      self.assertEqual(valid_braces(\"([{}])\"), True)\n",
        "      self.assertEqual(valid_braces(\"{}({})[]\"), True)\n",
        "      self.assertEqual(valid_braces(\"(({{[[]]}}))\"), True)\n",
        "\n",
        "  def test_invalid_braces(self):\n",
        "\n",
        "    self.assertEqual(valid_braces(\"(}\"), False)\n",
        "    self.assertEqual(valid_braces(\"[(])\"), False)\n",
        "    self.assertEqual(valid_braces(\"([}{])\"), False)\n",
        "    self.assertEqual(valid_braces(\"(((({{\"), False)\n",
        "    self.assertEqual(valid_braces(\")(}{][\"), False)\n",
        "    self.assertEqual(valid_braces(\"())({}}{()][][\"), False)\n",
        "\n",
        "unittest.main(argv=[''], defaultTest='TestValidBraces',verbosity=2, exit=False)"
      ],
      "metadata": {
        "colab": {
          "base_uri": "https://localhost:8080/"
        },
        "id": "MPJw-vbNlKmW",
        "outputId": "01168284-194d-4b4e-8d26-0fe682243d03"
      },
      "execution_count": 15,
      "outputs": [
        {
          "output_type": "stream",
          "name": "stderr",
          "text": [
            "test_invalid_braces (__main__.TestValidBraces) ... ok\n",
            "test_valid_braces (__main__.TestValidBraces) ... ok\n",
            "\n",
            "----------------------------------------------------------------------\n",
            "Ran 2 tests in 0.009s\n",
            "\n",
            "OK\n"
          ]
        },
        {
          "output_type": "execute_result",
          "data": {
            "text/plain": [
              "<unittest.main.TestProgram at 0x7fa02d76e5f0>"
            ]
          },
          "metadata": {},
          "execution_count": 15
        }
      ]
    }
  ]
}